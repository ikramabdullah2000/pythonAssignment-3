{
 "cells": [
  {
   "cell_type": "code",
   "execution_count": 3,
   "id": "6b1b58be",
   "metadata": {},
   "outputs": [
    {
     "name": "stdout",
     "output_type": "stream",
     "text": [
      "Allow for Ride\n"
     ]
    }
   ],
   "source": [
    "gender = \"male\";\n",
    "if gender == \"male\":\n",
    "    print(\"Allow for Ride\");\n",
    "    "
   ]
  },
  {
   "cell_type": "code",
   "execution_count": 11,
   "id": "589f7e71",
   "metadata": {},
   "outputs": [
    {
     "name": "stdout",
     "output_type": "stream",
     "text": [
      "Allow for Ride\n"
     ]
    }
   ],
   "source": [
    "gender = \"male\";\n",
    "if gender == \"male\":\n",
    "    print(\"Allow for Ride\");\n",
    "else:\n",
    "    print(\"not allow\")"
   ]
  },
  {
   "cell_type": "code",
   "execution_count": 14,
   "id": "d157c0f6",
   "metadata": {},
   "outputs": [
    {
     "name": "stdout",
     "output_type": "stream",
     "text": [
      "not allow\n"
     ]
    }
   ],
   "source": [
    "gender = \"male\";\n",
    "if gender != \"male\":\n",
    "    print(\"Allow for Ride\");\n",
    "else:\n",
    "    print(\"not allow\")"
   ]
  },
  {
   "cell_type": "code",
   "execution_count": 16,
   "id": "a0d2721b",
   "metadata": {},
   "outputs": [
    {
     "name": "stdout",
     "output_type": "stream",
     "text": [
      "allow for ride\n"
     ]
    }
   ],
   "source": [
    "age = 14;\n",
    "gender = \"male\";\n",
    "if age >18 or gender ==\"female\":\n",
    "    print(\"allow for ride\");\n",
    "else:\n",
    "    print (\"not allow\")"
   ]
  },
  {
   "cell_type": "code",
   "execution_count": 52,
   "id": "8b0ef7d4",
   "metadata": {},
   "outputs": [
    {
     "name": "stdout",
     "output_type": "stream",
     "text": [
      "fail\n"
     ]
    }
   ],
   "source": [
    "percent =140;\n",
    "if percent <100 and percent >= 80:\n",
    "    print(\"grade A+\")\n",
    "elif percent < 79 and percent >= 70:\n",
    "    print(\"grade A\")\n",
    "else: \n",
    "    print(\"fail\")"
   ]
  },
  {
   "cell_type": "code",
   "execution_count": 88,
   "id": "19b1bd3a",
   "metadata": {},
   "outputs": [
    {
     "name": "stdout",
     "output_type": "stream",
     "text": [
      "Obtain marks is 243\n",
      "total marks is 300\n",
      "Student Percentage is  81.0\n",
      "Student grade is  A+\n"
     ]
    }
   ],
   "source": [
    "english=70; math = 85; islamiat= 88;\n",
    "obtain= english + math + islamiat;\n",
    "print( \"Obtain marks is\" ,obtain)\n",
    "print(\"total marks is 300\")\n",
    "percentage=total/300*100;\n",
    "print(\"Student Percentage is \" , percentage);\n",
    "\n",
    "if percentage <100 and percentage >= 80:\n",
    "    print(\"Student grade is  A+\")\n",
    "elif percentage < 79 and percentage >= 70:\n",
    "    print(\"Student grade is  A\");\n",
    "elif percentage < 69 and percentage >= 60:\n",
    "    print(\"Student grade is B\")\n",
    "else: \n",
    "    print(\"Student is fail\")\n"
   ]
  },
  {
   "cell_type": "code",
   "execution_count": null,
   "id": "feff36d7",
   "metadata": {},
   "outputs": [],
   "source": []
  }
 ],
 "metadata": {
  "kernelspec": {
   "display_name": "Python 3",
   "language": "python",
   "name": "python3"
  },
  "language_info": {
   "codemirror_mode": {
    "name": "ipython",
    "version": 3
   },
   "file_extension": ".py",
   "mimetype": "text/x-python",
   "name": "python",
   "nbconvert_exporter": "python",
   "pygments_lexer": "ipython3",
   "version": "3.8.8"
  }
 },
 "nbformat": 4,
 "nbformat_minor": 5
}
