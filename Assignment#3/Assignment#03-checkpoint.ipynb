{
 "cells": [
  {
   "cell_type": "code",
   "execution_count": 1,
   "id": "d7140448",
   "metadata": {},
   "outputs": [
    {
     "name": "stdout",
     "output_type": "stream",
     "text": [
      "3.8.8 (default, Apr 13 2021, 15:08:03) [MSC v.1916 64 bit (AMD64)]\n"
     ]
    }
   ],
   "source": [
    "#Q2:Write a Python program to get the Python version you are using\n",
    "import sys\n",
    "char =  sys;\n",
    "print(sys.version)"
   ]
  },
  {
   "cell_type": "code",
   "execution_count": 2,
   "id": "d01dd479",
   "metadata": {},
   "outputs": [
    {
     "name": "stdout",
     "output_type": "stream",
     "text": [
      "Current date and time : \n",
      "2021-10-24 17:13:16\n"
     ]
    }
   ],
   "source": [
    "#Q3:Write a Python program to display the current date and time.\n",
    "\n",
    "import datetime\n",
    "now = datetime.datetime.now()\n",
    "print (\"Current date and time : \")\n",
    "print (now.strftime(\"%Y-%m-%d %H:%M:%S\"))\n"
   ]
  },
  {
   "cell_type": "code",
   "execution_count": 4,
   "id": "757370c9",
   "metadata": {},
   "outputs": [
    {
     "name": "stdout",
     "output_type": "stream",
     "text": [
      "input Radius of circle95\n",
      "Area of a circle is   28338.5\n"
     ]
    }
   ],
   "source": [
    "#Q4:Write a Python program which accepts the radius of a circle from the user and compute the area.\n",
    "radius=int(input(\"input Radius of circle\"))\n",
    "R=radius*radius;\n",
    "pi=3.14;\n",
    "Area=3.14*R;\n",
    "print(\"Area of a circle is  \" , Area)"
   ]
  },
  {
   "cell_type": "code",
   "execution_count": 6,
   "id": "d8545181",
   "metadata": {},
   "outputs": [
    {
     "name": "stdout",
     "output_type": "stream",
     "text": [
      "What is your First Name?:ikta\n",
      "What is your Last Name?dfg\n",
      "atki gfd\n"
     ]
    }
   ],
   "source": [
    "#Q5:Write a Python program which accepts the user's first and last name and print them in\n",
    "#reverse order with a space between them.\n",
    "\n",
    "firstname = input(\"What is your First Name?:\")\n",
    "lastname = input(\"What is your Last Name?\")\n",
    "print(firstname[::-1] + \" \" + lastname[::-1])"
   ]
  },
  {
   "cell_type": "code",
   "execution_count": 13,
   "id": "3a2b2ca6",
   "metadata": {},
   "outputs": [
    {
     "name": "stdout",
     "output_type": "stream",
     "text": [
      "enter first number: 7\n",
      "enter second number: 8\n",
      "sum: 15\n"
     ]
    }
   ],
   "source": [
    "#Q6:Write a python program which takes two inputs from user and print them addition\n",
    "a = int(input(\"enter first number: \"))\n",
    "b = int(input(\"enter second number: \"))\n",
    "sum = a + b ;\n",
    "print(\"sum:\", sum)"
   ]
  },
  {
   "cell_type": "code",
   "execution_count": 12,
   "id": "ce7d3d7b",
   "metadata": {},
   "outputs": [
    {
     "name": "stdout",
     "output_type": "stream",
     "text": [
      "enter first number: 5\n",
      "enter second number: 6\n",
      "sum: 11\n"
     ]
    }
   ],
   "source": [
    "#Q7:Write a program which takes 5 inputs from user for different subject’s marks, total it\n",
    "#and generate mark sheet using grades ?\n",
    "\n",
    "\n",
    "computer=int(input(\"Enter Computer Marks \"));\n",
    "english=int(input(\"Enter English Marks \")); \n",
    "math =int(input(\"Enter Maths Marks \"));\n",
    "islamiat=int(input(\"Enter Islamiat Marks \"));\n",
    "physics=int(input(\"Enter Physics Marks \"));\n",
    "\n",
    "obtain= computer + english + math + islamiat + physics;\n",
    "print( \"Obtain marks is\" ,obtain)\n",
    "print(\"total marks is 500\")\n",
    "total=500;\n",
    "percentage=(obtain/500)*100;\n",
    "print(\"Student Percentage is \" , percentage);\n",
    "\n",
    "if percentage <=100.0 and percentage >= 80.0:\n",
    "    print(\"Student grade is  A+\")\n",
    "elif percentage <= 79.0 and percentage >= 70.0:\n",
    "    print(\"Student grade is  A\");\n",
    "elif percentage <= 69.0 and percentage >= 60.0:\n",
    "    print(\"Student grade is B\")\n",
    "elif percentage<=40 and percentage>=1:  \n",
    "    print(\"Student is fail\")"
   ]
  },
  {
   "cell_type": "code",
   "execution_count": 14,
   "id": "387f2628",
   "metadata": {},
   "outputs": [
    {
     "name": "stdout",
     "output_type": "stream",
     "text": [
      "Input any number 78\n",
      "78  is EVEN number\n"
     ]
    }
   ],
   "source": [
    "#Q8:Write a program which take input from user and identify that the given number is even or odd?\n",
    "num=int(input(\"Input any number \"));\n",
    "mod=num %2\n",
    "if mod>0:\n",
    "    print(num , \" is ODD number\")\n",
    "else:\n",
    "    print(num , \" is EVEN number\")"
   ]
  },
  {
   "cell_type": "code",
   "execution_count": 15,
   "id": "27139203",
   "metadata": {},
   "outputs": [
    {
     "name": "stdout",
     "output_type": "stream",
     "text": [
      "389979\n"
     ]
    }
   ],
   "source": [
    "#10.Write a Python program to sum all the numeric items in a list?\n",
    "\n",
    "\n",
    "\n",
    "def sum(numbers):\n",
    "    total = 0\n",
    "    for i in numbers:\n",
    "        total += i\n",
    "    return total\n",
    "print(sum((85, 26, 389, 7, 72)))"
   ]
  },
  {
   "cell_type": "code",
   "execution_count": 18,
   "id": "813debaa",
   "metadata": {},
   "outputs": [
    {
     "name": "stdout",
     "output_type": "stream",
     "text": [
      "Largest element is: 99\n"
     ]
    }
   ],
   "source": [
    "#11.Write a Python program to get the largest number from a numeric list.\n",
    "\n",
    "def myMax(list1):\n",
    "  \n",
    "    # Assume first number in list is largest\n",
    "    # initially and assign it to variable \"max\"\n",
    "    max = list1[0]\n",
    "   \n",
    "    # Now traverse through the list and compare \n",
    "    # each number with \"max\" value. Whichever is \n",
    "    # largest assign that value to \"max'.\n",
    "    for x in list1:\n",
    "        if x > max :\n",
    "             max = x\n",
    "      \n",
    "    # after complete traversing the list \n",
    "    # return the \"max\" value\n",
    "    return max\n",
    "  \n",
    "  \n",
    "# Driver code\n",
    "list1 = [10, 20, 4, 45, 99]\n",
    "print(\"Largest element is:\", myMax(list1))"
   ]
  },
  {
   "cell_type": "code",
   "execution_count": 19,
   "id": "37672b4f",
   "metadata": {},
   "outputs": [
    {
     "name": "stdout",
     "output_type": "stream",
     "text": [
      "1\n",
      "\n",
      "1\n",
      "\n",
      "2\n",
      "\n",
      "3\n",
      "\n"
     ]
    }
   ],
   "source": [
    "#Q12:Take a list, say for example this one:\n",
    "#a = [1, 1, 2, 3, 5, 8, 13, 21, 34, 55, 89]\n",
    "#Write a program that prints out all the elements of the list that are less than 5.\n",
    "\n",
    "\n",
    "\n",
    "a = [1, 1, 2, 3, 5, 8, 13, 21, 34, 55, 89]\n",
    "for element in a:\n",
    "    if(int(element) <5):\n",
    "        print(str(element)+\"\\n\")"
   ]
  },
  {
   "cell_type": "code",
   "execution_count": null,
   "id": "edac8d3e",
   "metadata": {},
   "outputs": [],
   "source": []
  }
 ],
 "metadata": {
  "kernelspec": {
   "display_name": "Python 3",
   "language": "python",
   "name": "python3"
  },
  "language_info": {
   "codemirror_mode": {
    "name": "ipython",
    "version": 3
   },
   "file_extension": ".py",
   "mimetype": "text/x-python",
   "name": "python",
   "nbconvert_exporter": "python",
   "pygments_lexer": "ipython3",
   "version": "3.8.8"
  }
 },
 "nbformat": 4,
 "nbformat_minor": 5
}
